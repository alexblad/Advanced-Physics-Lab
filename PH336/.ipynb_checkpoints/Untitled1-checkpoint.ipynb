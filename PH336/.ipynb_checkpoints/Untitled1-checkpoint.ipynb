{
 "cells": [
  {
   "cell_type": "markdown",
   "id": "c86df419",
   "metadata": {},
   "source": [
    "# Significance Tests Lab\n",
    "\n",
    "## Z Test of Single Proportion\n",
    "\n",
    "Data from \n",
    "\n",
    "$$\n",
    "H_0: p=.151\n",
    "$$\n",
    "\n",
    "$$\n",
    "H_a: p>.151\n",
    "$$\n",
    "\n",
    "\n",
    "## Z Test of Single Mean\n",
    "\n",
    "From Census data, the mean price of a home in Dec 2023 was $487,300. Calculating for a 95% confidence interval $\\alpha=0,05$.\n",
    "\n",
    "$$\n",
    "H_0: \\mu=\\mu_0\n",
    "$$\n",
    "\n",
    "$$\n",
    "H_a: \\mu> \\mu_0\n",
    "$$\n",
    "\n",
    "Because $P=1.832e-05$ we reject the null hypothesis that $H_0: \\mu=\\mu_0$."
   ]
  },
  {
   "cell_type": "code",
   "execution_count": 12,
   "id": "98e3a7d5",
   "metadata": {},
   "outputs": [
    {
     "data": {
      "text/plain": [
       "TtestResult(statistic=4.131556228566181, pvalue=1.832246054722717e-05, df=4800)"
      ]
     },
     "execution_count": 12,
     "metadata": {},
     "output_type": "execute_result"
    }
   ],
   "source": [
    "import pandas as pd\n",
    "import numpy as np\n",
    "from scipy.stats import ttest_1samp\n",
    "\n",
    "μ_0=487300\n",
    "\n",
    "data= pd.read_csv(\"NY-House-Dataset.csv\")\n",
    "data\n",
    "price= data['PRICE'].to_numpy()\n",
    "\n",
    "len(price)\n",
    "\n",
    "ttest_1samp(price, μ_0, None,'omit', 'greater')\n"
   ]
  },
  {
   "cell_type": "code",
   "execution_count": null,
   "id": "28d379b4",
   "metadata": {},
   "outputs": [],
   "source": []
  }
 ],
 "metadata": {
  "kernelspec": {
   "display_name": "Python 3 (ipykernel)",
   "language": "python",
   "name": "python3"
  },
  "language_info": {
   "codemirror_mode": {
    "name": "ipython",
    "version": 3
   },
   "file_extension": ".py",
   "mimetype": "text/x-python",
   "name": "python",
   "nbconvert_exporter": "python",
   "pygments_lexer": "ipython3",
   "version": "3.10.9"
  }
 },
 "nbformat": 4,
 "nbformat_minor": 5
}
