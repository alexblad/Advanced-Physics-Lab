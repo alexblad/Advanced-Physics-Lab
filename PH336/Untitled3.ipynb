{
 "cells": [
  {
   "cell_type": "code",
   "execution_count": 24,
   "id": "1532fa08",
   "metadata": {},
   "outputs": [
    {
     "name": "stdout",
     "output_type": "stream",
     "text": [
      "           Timestamp             Real time                Event  Pulses  \\\n",
      "0   01DA6A9736421C2D  2024.02.28  15.41.04  Current data values    1272   \n",
      "1   01DA6A976F7A8C2D  2024.02.28  15.42.40  Current data values    1223   \n",
      "2   01DA6A97A8B2FC2D  2024.02.28  15.44.16  Current data values    1198   \n",
      "3   01DA6A97E1EB6C2D  2024.02.28  15.45.52  Current data values    1186   \n",
      "4   01DA6A981B23DC2D  2024.02.28  15.47.28  Current data values    1215   \n",
      "5   01DA6A98545C4C2D  2024.02.28  15.49.04  Current data values    1257   \n",
      "6   01DA6A988D94BC2D  2024.02.28  15.50.40  Current data values    1124   \n",
      "7   01DA6A98C6CD2C2D  2024.02.28  15.52.16  Current data values    1199   \n",
      "8   01DA6A9900059C2D  2024.02.28  15.53.52  Current data values    1205   \n",
      "9   01DA6A99393E0C2D  2024.02.28  15.55.28  Current data values    1221   \n",
      "10  01DA6A9972767C2D  2024.02.28  15.57.04  Current data values    1170   \n",
      "11  01DA6A99ABAEEC2D  2024.02.28  15.58.40  Current data values    1226   \n",
      "12  01DA6A99E57FF2AD  2024.02.28  16.00.17  Current data values    1222   \n",
      "\n",
      "   Count rate  Duration of d.a. Duration of meas.  Unnamed: 7      CPM  \n",
      "0    13.2 cps               NaN           0:01:36         NaN  795.000  \n",
      "1    12.7 cps               NaN           0:01:36         NaN  764.375  \n",
      "2    12.5 cps               NaN           0:01:36         NaN  748.750  \n",
      "3    12.4 cps               NaN           0:01:36         NaN  741.250  \n",
      "4    12.7 cps               NaN           0:01:36         NaN  759.375  \n",
      "5    13.1 cps               NaN           0:01:36         NaN  785.625  \n",
      "6    11.7 cps               NaN           0:01:36         NaN  702.500  \n",
      "7    12.5 cps               NaN           0:01:36         NaN  749.375  \n",
      "8    12.6 cps               NaN           0:01:36         NaN  753.125  \n",
      "9    12.7 cps               NaN           0:01:36         NaN  763.125  \n",
      "10   12.2 cps               NaN           0:01:36         NaN  731.250  \n",
      "11   12.8 cps               NaN           0:01:36         NaN  766.250  \n",
      "12   12.7 cps               NaN           0:01:36         NaN  763.750  \n",
      "               Real time  Pulses  Count rate  Duration of d.a.  \\\n",
      "0   2024.02.28  16.13.11    3760        78.3               NaN   \n",
      "1   2024.02.28  16.13.19    3490        72.7               NaN   \n",
      "2   2024.02.28  16.13.59    3065        63.9               NaN   \n",
      "3   2024.02.28  16.14.07    1792        56.0               NaN   \n",
      "4   2024.02.28  16.14.19    1797        56.2               NaN   \n",
      "5   2024.02.28  16.15.23    4448        46.3               NaN   \n",
      "6   2024.02.28  16.16.59    3211        33.4               NaN   \n",
      "7   2024.02.28  16.18.35    2556        26.6               NaN   \n",
      "8   2024.02.28  16.20.11    2092        21.8               NaN   \n",
      "9   2024.02.28  16.21.47    1767        18.4               NaN   \n",
      "10  2024.02.28  16.22.59    3218        16.8               NaN   \n",
      "11  2024.02.28  16.24.11    3123        16.3               NaN   \n",
      "12  2024.02.28  16.26.35    1386        14.4               NaN   \n",
      "13  2024.02.28  16.28.11    1286        13.4               NaN   \n",
      "14  2024.02.28  16.29.47    1291        13.4               NaN   \n",
      "15  2024.02.28  16.31.23    1255        13.1               NaN   \n",
      "16  2024.02.28  16.32.59    1263        13.2               NaN   \n",
      "17  2024.02.28  16.34.35    1207        12.6               NaN   \n",
      "18  2024.02.28  16.36.11    1211        12.6               NaN   \n",
      "19  2024.02.28  16.37.47    1211        12.6               NaN   \n",
      "20  2024.02.28  16.39.23    1206        12.6               NaN   \n",
      "21  2024.02.28  16.40.59    1211        12.6               NaN   \n",
      "22  2024.02.28  16.42.35    1210        12.6               NaN   \n",
      "23  2024.02.28  16.44.11    1221        12.7               NaN   \n",
      "24  2024.02.28  16.45.47    1207        12.6               NaN   \n",
      "25  2024.02.28  16.47.23    1267        13.2               NaN   \n",
      "26  2024.02.28  16.49.00    1131        11.8               NaN   \n",
      "\n",
      "   Duration of meas.  \n",
      "0            0:00:48  \n",
      "1            0:00:48  \n",
      "2            0:00:48  \n",
      "3            0:00:32  \n",
      "4            0:00:32  \n",
      "5            0:01:36  \n",
      "6            0:01:36  \n",
      "7            0:01:36  \n",
      "8            0:01:36  \n",
      "9            0:01:36  \n",
      "10           0:03:12  \n",
      "11           0:03:12  \n",
      "12           0:01:36  \n",
      "13           0:01:36  \n",
      "14           0:01:36  \n",
      "15           0:01:36  \n",
      "16           0:01:36  \n",
      "17           0:01:36  \n",
      "18           0:01:36  \n",
      "19           0:01:36  \n",
      "20           0:01:36  \n",
      "21           0:01:36  \n",
      "22           0:01:36  \n",
      "23           0:01:36  \n",
      "24           0:01:36  \n",
      "25           0:01:36  \n",
      "26           0:01:36  \n"
     ]
    }
   ],
   "source": [
    "import pandas as pd\n",
    "\n",
    "data_background=pd.read_csv(\"background rad.csv\")\n",
    "rad_data=pd.read_csv(\"rad data.csv\")\n",
    "\n",
    "print(data_background)\n",
    "print(rad_data)"
   ]
  },
  {
   "cell_type": "code",
   "execution_count": 25,
   "id": "71af981b",
   "metadata": {},
   "outputs": [],
   "source": [
    "data_background.to_pickle('Background.pkl')\n",
    "rad_data.to_pickle('Radiation.pkl')"
   ]
  },
  {
   "cell_type": "code",
   "execution_count": 35,
   "id": "d5a7ca49",
   "metadata": {},
   "outputs": [
    {
     "name": "stdout",
     "output_type": "stream",
     "text": [
      "            Pulses  Duration of d.a.  Unnamed: 7         CPM\n",
      "count    13.000000               0.0         0.0   13.000000\n",
      "mean   1209.076923               NaN         NaN  755.673077\n",
      "std      37.214382               NaN         NaN   23.258989\n",
      "min    1124.000000               NaN         NaN  702.500000\n",
      "25%    1198.000000               NaN         NaN  748.750000\n",
      "50%    1215.000000               NaN         NaN  759.375000\n",
      "75%    1223.000000               NaN         NaN  764.375000\n",
      "max    1272.000000               NaN         NaN  795.000000\n",
      "            Pulses  Count rate  Duration of d.a.\n",
      "count    27.000000   27.000000               0.0\n",
      "mean   1958.592593   25.929630               NaN\n",
      "std     996.776082   21.001334               NaN\n",
      "min    1131.000000   11.800000               NaN\n",
      "25%    1211.000000   12.600000               NaN\n",
      "50%    1291.000000   13.400000               NaN\n",
      "75%    2810.500000   30.000000               NaN\n",
      "max    4448.000000   78.300000               NaN\n"
     ]
    },
    {
     "data": {
      "text/plain": [
       "Real time             object\n",
       "Pulses                 int64\n",
       "Count rate           float64\n",
       "Duration of d.a.     float64\n",
       "Duration of meas.     object\n",
       "dtype: object"
      ]
     },
     "execution_count": 35,
     "metadata": {},
     "output_type": "execute_result"
    }
   ],
   "source": [
    "summary_stats=data_background.describe()\n",
    "summary_stats2=rad_data.describe()\n",
    "print(summary_stats)\n",
    "print(summary_stats2)\n",
    "rad_data.dtypes\n"
   ]
  },
  {
   "cell_type": "code",
   "execution_count": 32,
   "id": "44dae8c5",
   "metadata": {},
   "outputs": [
    {
     "data": {
      "text/plain": [
       "array([78.3, 72.7, 63.9, 56. , 56.2, 46.3, 33.4, 26.6, 21.8, 18.4, 16.8,\n",
       "       16.3, 14.4, 13.4, 13.4, 13.1, 13.2, 12.6, 12.6, 12.6, 12.6, 12.6,\n",
       "       12.6, 12.7, 12.6, 13.2, 11.8])"
      ]
     },
     "execution_count": 32,
     "metadata": {},
     "output_type": "execute_result"
    }
   ],
   "source": [
    "Y=rad_data['Count rate'].values\n",
    "Y"
   ]
  },
  {
   "cell_type": "code",
   "execution_count": 34,
   "id": "b567a1f7",
   "metadata": {},
   "outputs": [
    {
     "ename": "NameError",
     "evalue": "name 'count' is not defined",
     "output_type": "error",
     "traceback": [
      "\u001b[1;31m---------------------------------------------------------------------------\u001b[0m",
      "\u001b[1;31mNameError\u001b[0m                                 Traceback (most recent call last)",
      "Cell \u001b[1;32mIn[34], line 1\u001b[0m\n\u001b[1;32m----> 1\u001b[0m \u001b[43mcount\u001b[49m(Y)\n",
      "\u001b[1;31mNameError\u001b[0m: name 'count' is not defined"
     ]
    }
   ],
   "source": [
    "count(Y)"
   ]
  },
  {
   "cell_type": "code",
   "execution_count": null,
   "id": "ad0877e0",
   "metadata": {},
   "outputs": [],
   "source": []
  }
 ],
 "metadata": {
  "kernelspec": {
   "display_name": "Python 3 (ipykernel)",
   "language": "python",
   "name": "python3"
  },
  "language_info": {
   "codemirror_mode": {
    "name": "ipython",
    "version": 3
   },
   "file_extension": ".py",
   "mimetype": "text/x-python",
   "name": "python",
   "nbconvert_exporter": "python",
   "pygments_lexer": "ipython3",
   "version": "3.10.9"
  }
 },
 "nbformat": 4,
 "nbformat_minor": 5
}
