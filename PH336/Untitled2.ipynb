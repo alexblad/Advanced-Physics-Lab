{
 "cells": [
  {
   "cell_type": "code",
   "execution_count": 9,
   "id": "f107bf86",
   "metadata": {},
   "outputs": [
    {
     "data": {
      "text/plain": [
       "LinregressResult(slope=0.03010909090909091, intercept=0.0, rvalue=0.9998969407941571, pvalue=4.934822234487584e-16, stderr=0.00015284266924757143, intercept_stderr=0.04741819111361211)"
      ]
     },
     "execution_count": 9,
     "metadata": {},
     "output_type": "execute_result"
    }
   ],
   "source": [
    "from scipy.stats import linregress\n",
    "\n",
    "def\n",
    "\n",
    "#Problem 3\n",
    "\n",
    "#Mass grams\n",
    "m=np.array([50,100,150,200,250,300,350,400,450,500])\n",
    "\n",
    "#Stretch cm\n",
    "x=np.array([1.6,2.9,4.5,6.0,7.6,9.0,10.6,12.0,13.5,15.1])\n",
    "\n",
    "merr=1\n",
    "xerr=.2\n",
    "\n",
    "\n"
   ]
  },
  {
   "cell_type": "code",
   "execution_count": null,
   "id": "2c19d343",
   "metadata": {},
   "outputs": [],
   "source": []
  }
 ],
 "metadata": {
  "kernelspec": {
   "display_name": "Python 3 (ipykernel)",
   "language": "python",
   "name": "python3"
  },
  "language_info": {
   "codemirror_mode": {
    "name": "ipython",
    "version": 3
   },
   "file_extension": ".py",
   "mimetype": "text/x-python",
   "name": "python",
   "nbconvert_exporter": "python",
   "pygments_lexer": "ipython3",
   "version": "3.10.9"
  }
 },
 "nbformat": 4,
 "nbformat_minor": 5
}
