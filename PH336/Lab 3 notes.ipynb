{
 "cells": [
  {
   "cell_type": "markdown",
   "id": "870f979a",
   "metadata": {},
   "source": [
    "$c_{air}=\\sqrt{\\gamma*R_**T}=v(T)$\n",
    "\n",
    "$T$: temperature in Celsius\n",
    "\n",
    "$R_*=R/M_{air}$\n",
    "\n",
    "Solving for temperature as a function of wavelength, etc (previously measured) we get...\n",
    "\n",
    "$T=\\frac{\\lambda^2f^2M_{air}}{\\gamma R}$"
   ]
  },
  {
   "cell_type": "code",
   "execution_count": 4,
   "id": "1a525f8c",
   "metadata": {},
   "outputs": [
    {
     "name": "stdout",
     "output_type": "stream",
     "text": [
      "[11.700290284689459, 11.700290284689459, 15.67028130958704, -86.70809450634752, -46.021150733604344, -15.320375272311935]\n"
     ]
    }
   ],
   "source": [
    "from math import sqrt\n",
    "from scipy.constants import R\n",
    "\n",
    "Length = [0.288,0.288,0.290,0.233,0.25717,0.274]\n",
    "T = []\n",
    "\n",
    "for L in Length:\n",
    "\n",
    "    wavelngth = 4*L\n",
    "    gamma = 1.4\n",
    "    M = 0.0289645 #kg/mol\n",
    "    f = 293.7 #Hz\n",
    "\n",
    "    T.append(((wavelngth**2 * f**2 * M)/(gamma * R)) - 273.15)\n",
    "    \n",
    "print(T)"
   ]
  },
  {
   "cell_type": "code",
   "execution_count": null,
   "id": "ac4a8d3f",
   "metadata": {},
   "outputs": [],
   "source": []
  }
 ],
 "metadata": {
  "kernelspec": {
   "display_name": "Python 3 (ipykernel)",
   "language": "python",
   "name": "python3"
  },
  "language_info": {
   "codemirror_mode": {
    "name": "ipython",
    "version": 3
   },
   "file_extension": ".py",
   "mimetype": "text/x-python",
   "name": "python",
   "nbconvert_exporter": "python",
   "pygments_lexer": "ipython3",
   "version": "3.11.5"
  }
 },
 "nbformat": 4,
 "nbformat_minor": 5
}
