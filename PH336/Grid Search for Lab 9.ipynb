{
 "cells": [
  {
   "cell_type": "code",
   "execution_count": null,
   "id": "3457d7c6",
   "metadata": {},
   "outputs": [],
   "source": []
  },
  {
   "cell_type": "code",
   "execution_count": 4,
   "id": "116c910c",
   "metadata": {},
   "outputs": [],
   "source": [
    "from pandas import read_pickle\n",
    "import numpy as np\n",
    "from numpy.linalg import det\n",
    "import matplotlib.pyplot as plt\n",
    "from math import pi, log, e\n",
    "\n",
    "# Importing data\n",
    "radiation = read_pickle('Radiation.pkl')\n",
    "\n",
    "# Setting up arrays for time, radiation, and background radiation and error for each\n",
    "t = np.arange(0,35.8167,1.35)\n",
    "y = radiation['Count rate'].values*60\n",
    "yerr = np.sqrt(y)\n",
    "\n",
    "# Creating a fit line with the parameters\n",
    "def fit_line(t,A1,A2,λ1,λ2,B):\n",
    "    fit = A1*(e**(-λ1*t))+ A2*(e**(-λ2*t)) + B\n",
    "    return fit\n",
    "\n",
    "a1 = 3000\n",
    "a2 = -2000\n",
    "λ1 = 0.1\n",
    "λ2 = 0.1\n",
    "B = 100\n",
    "\n"
   ]
  },
  {
   "cell_type": "code",
   "execution_count": 135,
   "id": "b737b13b",
   "metadata": {},
   "outputs": [
    {
     "data": {
      "text/plain": [
       "[<matplotlib.lines.Line2D at 0x7fc441338640>]"
      ]
     },
     "execution_count": 135,
     "metadata": {},
     "output_type": "execute_result"
    },
    {
     "data": {
      "image/png": "[encoded data removed]",
      "text/plain": [
       "<Figure size 432x288 with 1 Axes>"
      ]
     },
     "metadata": {
      "needs_background": "light"
     },
     "output_type": "display_data"
    }
   ],
   "source": [
    "# This block of code was to help me make sure that my grid search program wasn't \n",
    "# finding a local minimum\n",
    "\n",
    "a1 = linspace(4690,5000,20000)\n",
    "a2 = linspace(4670,8000,20000)\n",
    "λ1 = linspace(0,2,2000)\n",
    "λ2 = linspace(0.1,0.2,2000)\n",
    "B = linspace(600,800,2000)\n",
    "\n",
    "chisq = array([])\n",
    "for i in λ1:\n",
    "    fit = fit_line(t,a1[0],a2[0],i,λ2[0],B[0])\n",
    "    chi2 = sum(((y - fit)**2)/((yerr)**2))\n",
    "    chisq = append(chisq, chi2)\n",
    "\n",
    "plt.title('X2 vs Variable') # In this case its Gamma2\n",
    "plt.plot(λ1,chisq)"
   ]
  },
  {
   "cell_type": "code",
   "execution_count": 164,
   "id": "925f9b69",
   "metadata": {},
   "outputs": [
    {
     "name": "stdout",
     "output_type": "stream",
     "text": [
      "3.465735902799726\n"
     ]
    }
   ],
   "source": [
    "Thalf = log(2)/λ1\n",
    "print(Thalf)"
   ]
  },
  {
   "cell_type": "code",
   "execution_count": 5,
   "id": "bc1c6535",
   "metadata": {},
   "outputs": [
    {
     "ename": "KeyboardInterrupt",
     "evalue": "",
     "output_type": "error",
     "traceback": [
      "\u001b[1;31m---------------------------------------------------------------------------\u001b[0m",
      "\u001b[1;31mKeyboardInterrupt\u001b[0m                         Traceback (most recent call last)",
      "Cell \u001b[1;32mIn[5], line 50\u001b[0m\n\u001b[0;32m     45\u001b[0m step_size\u001b[38;5;241m=\u001b[39m \u001b[38;5;241m1\u001b[39m\n\u001b[0;32m     46\u001b[0m step_size2\u001b[38;5;241m=\u001b[39m \u001b[38;5;241m.01\u001b[39m\n\u001b[1;32m---> 50\u001b[0m best_params \u001b[38;5;241m=\u001b[39m \u001b[43mgrid_search\u001b[49m\u001b[43m(\u001b[49m\u001b[43my\u001b[49m\u001b[43m,\u001b[49m\u001b[43m \u001b[49m\u001b[43mt\u001b[49m\u001b[43m,\u001b[49m\u001b[43m \u001b[49m\u001b[43mA_range\u001b[49m\u001b[43m,\u001b[49m\u001b[43m \u001b[49m\u001b[43mB_range\u001b[49m\u001b[43m,\u001b[49m\u001b[43m \u001b[49m\u001b[43mλ_range\u001b[49m\u001b[43m,\u001b[49m\u001b[43m \u001b[49m\u001b[43mstep_size\u001b[49m\u001b[43m,\u001b[49m\u001b[43m \u001b[49m\u001b[43mstep_size2\u001b[49m\u001b[43m)\u001b[49m\n\u001b[0;32m     51\u001b[0m \u001b[38;5;28mprint\u001b[39m(\u001b[38;5;124m\"\u001b[39m\u001b[38;5;124mBest Parameters (A, B, λ) and Chi_Squared\u001b[39m\u001b[38;5;124m\"\u001b[39m, best_params)\n",
      "Cell \u001b[1;32mIn[5], line 31\u001b[0m, in \u001b[0;36mgrid_search\u001b[1;34m(y, t, A_range, B_range, λ_range, step_size, step_size2)\u001b[0m\n\u001b[0;32m     29\u001b[0m \u001b[38;5;28;01mfor\u001b[39;00m A \u001b[38;5;129;01min\u001b[39;00m np\u001b[38;5;241m.\u001b[39marange(A_range[\u001b[38;5;241m0\u001b[39m], A_range[\u001b[38;5;241m1\u001b[39m], step_size):\n\u001b[0;32m     30\u001b[0m     \u001b[38;5;28;01mfor\u001b[39;00m B \u001b[38;5;129;01min\u001b[39;00m np\u001b[38;5;241m.\u001b[39marange(B_range[\u001b[38;5;241m0\u001b[39m], B_range[\u001b[38;5;241m1\u001b[39m], step_size):\n\u001b[1;32m---> 31\u001b[0m         \u001b[38;5;28;01mfor\u001b[39;00m λ \u001b[38;5;129;01min\u001b[39;00m \u001b[43mnp\u001b[49m\u001b[38;5;241;43m.\u001b[39;49m\u001b[43marange\u001b[49m\u001b[43m(\u001b[49m\u001b[43mλ_range\u001b[49m\u001b[43m[\u001b[49m\u001b[38;5;241;43m0\u001b[39;49m\u001b[43m]\u001b[49m\u001b[43m,\u001b[49m\u001b[43m \u001b[49m\u001b[43mλ_range\u001b[49m\u001b[43m[\u001b[49m\u001b[38;5;241;43m1\u001b[39;49m\u001b[43m]\u001b[49m\u001b[43m,\u001b[49m\u001b[43m \u001b[49m\u001b[43mstep_size2\u001b[49m\u001b[43m)\u001b[49m:\n\u001b[0;32m     33\u001b[0m             current_chi_squared \u001b[38;5;241m=\u001b[39m chi_squared(y, t, A, B, λ)\n\u001b[0;32m     35\u001b[0m             \u001b[38;5;28;01mif\u001b[39;00m current_chi_squared \u001b[38;5;241m<\u001b[39m best_chi_squared:\n",
      "\u001b[1;31mKeyboardInterrupt\u001b[0m: "
     ]
    }
   ],
   "source": [
    "# Importing data\n",
    "radiation = read_pickle('Radiation.pkl')\n",
    "\n",
    "# Setting up arrays for time, radiation, and background radiation and error for each\n",
    "t = np.arange(0,35.8167,1.35)\n",
    "y = radiation['Count rate'].values*60\n",
    "yerr = np.sqrt(y)\n",
    "\n",
    "\n",
    "# Creating a fit line with the parameters\n",
    "def fit_line(t,A,λ,B):\n",
    "    fit = A*(np.exp(-λ*t)) + B\n",
    "    return fit\n",
    "\n",
    "\n",
    "#a1  = 3000\n",
    "#λ = 0.12\n",
    "#B = 600\n",
    "\n",
    "\n",
    "def chi_squared(y, t, A, B, λ):\n",
    "    y_values=fit_line(t, A, λ, B)\n",
    "    return np.sum((y-y_values)**2 / yerr**2)\n",
    "\n",
    "def grid_search(y, t, A_range, B_range, λ_range, step_size, step_size2):\n",
    "    best_params= None\n",
    "    best_chi_squared = float('inf')\n",
    "    \n",
    "    for A in np.arange(A_range[0], A_range[1], step_size):\n",
    "        for B in np.arange(B_range[0], B_range[1], step_size):\n",
    "            for λ in np.arange(λ_range[0], λ_range[1], step_size2):\n",
    "                \n",
    "                current_chi_squared = chi_squared(y, t, A, B, λ)\n",
    "                \n",
    "                if current_chi_squared < best_chi_squared:\n",
    "                    best_chi_squared = current_chi_squared\n",
    "                    best_params = (A, B, λ)\n",
    "                    \n",
    "        \n",
    "    return best_params, best_chi_squared\n",
    "\n",
    "A_range=(2000, 4000)\n",
    "B_range=(100,700)\n",
    "λ_range=(0, 1)\n",
    "step_size= 1\n",
    "step_size2= .01\n",
    "\n",
    "\n",
    "\n",
    "best_params = grid_search(y, t, A_range, B_range, λ_range, step_size, step_size2)\n",
    "print(\"Best Parameters (A, B, λ) and Chi_Squared\", best_params)"
   ]
  },
  {
   "cell_type": "code",
   "execution_count": 44,
   "id": "e656fae4",
   "metadata": {},
   "outputs": [
    {
     "name": "stdout",
     "output_type": "stream",
     "text": [
      "4.620981203732969\n"
     ]
    }
   ],
   "source": [
    "Thalf = log(2)/.15\n",
    "print(Thalf)"
   ]
  },
  {
   "cell_type": "code",
   "execution_count": 5,
   "id": "6fdd093a",
   "metadata": {},
   "outputs": [],
   "source": [
    "from multiprocessing import Pool\n",
    "\n",
    "def fit_line(t, A, λ, B):\n",
    "    return A * np.exp(-λ * t) + B\n",
    "\n",
    "def chi_squared(params):\n",
    "    A, B, λ = params\n",
    "    y_values = fit_line(t, A, λ, B)\n",
    "    return np.sum((y - y_values) ** 2 / yerr ** 2)\n",
    "\n",
    "def grid_search(params):\n",
    "    A_range, B_range, λ_range, step_size, step_size2 = params\n",
    "    best_params = None\n",
    "    best_chi_squared = float('inf')\n",
    "\n",
    "    for A in np.arange(*A_range, step_size):\n",
    "        for B in np.arange(*B_range, step_size):\n",
    "            for λ in np.arange(*λ_range, step_size2):\n",
    "                current_chi_squared = chi_squared((A, B, λ))\n",
    "                if current_chi_squared < best_chi_squared:\n",
    "                    best_chi_squared = current_chi_squared\n",
    "                    best_params = (A, B, λ)\n",
    "\n",
    "    return best_params, best_chi_squared\n",
    "\n",
    "# Parameters\n",
    "A_range = (2000, 4000)\n",
    "B_range = (100, 700)\n",
    "λ_range = (0, 1)\n",
    "step_size = 1\n",
    "step_size2 = 0.01\n",
    "params = (A_range, B_range, λ_range, step_size, step_size2)\n",
    "\n",
    "# Grid search\n",
    "with Pool() as p:\n",
    "    result = p.map(grid_search, [params])[0]\n",
    "\n",
    "print(\"Best Parameters (A, B, λ) and Chi_Squared:\", result)"
   ]
  },
  {
   "cell_type": "code",
   "execution_count": 105,
   "id": "47368d96",
   "metadata": {},
   "outputs": [
    {
     "name": "stdout",
     "output_type": "stream",
     "text": [
      "Initial Chi Squared: 225254.42089290585\n"
     ]
    }
   ],
   "source": [
    "#Grid search procedure as give in the book. \n",
    "#\n",
    "#Step 1\n",
    "\n",
    "#Line that we are trying to optimize parameters for \n",
    "def fit_line(t, A, λ, B):\n",
    "    return A * (np.exp(-λ * t)) + B\n",
    "\n",
    "\n",
    "#Select starting values and step sizes and calculate Chi-Squared for the parameters\n",
    "\n",
    "start_values ={\n",
    "    'A':3300,\n",
    "    'B':600,\n",
    "    'λ':0.01,\n",
    "}\n",
    "\n",
    "delta_values={\n",
    "    'A':100,\n",
    "    'B':50, \n",
    "    'λ':.01\n",
    "}\n",
    "\n",
    "\n",
    "\n",
    "#Define a Chi-Squared function\n",
    "def chi_squared(y, t, A, B, λ):\n",
    "\n",
    "    #Y-Values that we expect from the fit line\n",
    "    y_values=fit_line(t, A, λ, B)\n",
    "    #Returns Chi-Squared value for the initial parameter values\n",
    "    return np.sum((y-y_values)**2 / yerr**2)\n",
    "\n",
    "initial_chi_squared=chi_squared(y, t, **start_values)\n",
    "print('Initial Chi Squared:', initial_chi_squared)\n"
   ]
  },
  {
   "cell_type": "code",
   "execution_count": 106,
   "id": "0cb6b515",
   "metadata": {},
   "outputs": [
    {
     "name": "stdout",
     "output_type": "stream",
     "text": [
      "New Chi-Squared: 225252.94116000357\n",
      "New Value of Parameter A : 3299.9900000000002\n"
     ]
    }
   ],
   "source": [
    "#Step 2\n",
    "\n",
    "#This function will determine whether delta should be added or subtracted to minimize Chi-Squared\n",
    "def step_parameter(y, t, A, B, λ, param, delta_values):\n",
    "\n",
    "    #Create a dictionary to store current parameter values\n",
    "    params= {'A':A, 'B':B, 'λ':λ}\n",
    "\n",
    "    #Increment a chosen parameter by +delta\n",
    "    params[param] += delta_values\n",
    "\n",
    "    #Calculated chi-squared when parameter is increased\n",
    "    chi_squared_right= chi_squared(y,t, **params)\n",
    "    #print(\"New Parameter Values if positive delta\", params[param])\n",
    "\n",
    "    #Decrement a chosen parameter by -delta\n",
    "    # -= 2*delta because we already incremented our parameters by +delta\n",
    "    params[param] -= 2*delta_values\n",
    "\n",
    "    #Calculate chi-squared when parameter is decreased\n",
    "    chi_squared_left= chi_squared(y,t, **params)\n",
    "    #print(\"New Parameter Values if negative delta\", params[param])\n",
    "    #print(\"Chi-Squared Left:\", chi_squared_left, \"Chi-Squared Right\", chi_squared_right)\n",
    "    \n",
    "\n",
    "    #Choose which chi-squared is smaller\n",
    "    if chi_squared_right < chi_squared_left:\n",
    "        return chi_squared_right, params[param] + 2*delta_values\n",
    "    else:\n",
    "        return chi_squared_left, params[param]\n",
    "    \n",
    "#Test for parameter A\n",
    "param='A'\n",
    "delta=.01\n",
    "\n",
    "new_chi_squared, new_param_value = step_parameter(y,t,**start_values, param=param, delta_values=delta)\n",
    "print(\"New Chi-Squared:\", new_chi_squared)\n",
    "print(\"New Value of Parameter\", param, \":\", new_param_value)\n",
    "\n"
   ]
  },
  {
   "cell_type": "code",
   "execution_count": 108,
   "id": "d74b7b94",
   "metadata": {},
   "outputs": [
    {
     "name": "stdout",
     "output_type": "stream",
     "text": [
      "Final Chi-Squared: 13852.808539042993\n",
      "Final Value of Parameter A : 442.7200000310663\n",
      "[3300.         3299.99       3299.98       ...  442.73000003  442.72000003\n",
      "  442.71000003]\n",
      "[225254.42089291 225252.94116    225251.46143228 ...  13852.80854858\n",
      "  13852.80854122  13852.80853904]\n",
      "Minimum A value: 442.71079484450433\n",
      "Final Chi-Squared: 13852.808539042999\n",
      "Final Value of Parameter B : -2257.2799999935132\n",
      "[  600.           599.99         599.98       ... -2257.26999999\n",
      " -2257.27999999 -2257.28999999]\n",
      "[225254.42089291 225252.94116    225251.46143228 ...  13852.80854858\n",
      "  13852.80854122  13852.80853904]\n",
      "Minimum B value: -2257.2892050873415\n"
     ]
    }
   ],
   "source": [
    "#Step 3\n",
    "parameters = ['A', 'B']\n",
    "\n",
    "for param in parameters:\n",
    "    #Initialize variables \n",
    "    prev_chi_squared=initial_chi_squared\n",
    "    #Create a copy of the start values dictionary to update with the new parameter value\n",
    "    param_values=start_values.copy()\n",
    "    max_iterations=10000000\n",
    "\n",
    "    #Create a list of parameter values\n",
    "    param_list=np.array(start_values[param])\n",
    "    chi_list=np.array(initial_chi_squared)\n",
    "\n",
    "    iteration=0\n",
    "\n",
    "    #Repeat step 2 until Chi-Squared is no longer increasing\n",
    "    while True:\n",
    "        #Increment the parameter chosen\n",
    "        new_chi_squared, new_param_value = step_parameter(y,t,**param_values, param=param, delta_values=delta)\n",
    "\n",
    "        #Check whether Chi-Squared has increased due to parameter change\n",
    "        if new_chi_squared > prev_chi_squared:\n",
    "            #param_list=np.append(param_list, param_values[param])\n",
    "            break\n",
    "        else:\n",
    "            prev_chi_squared=new_chi_squared\n",
    "            param_values[param]=new_param_value\n",
    "            param_list=np.append(param_list, new_param_value)\n",
    "            chi_list=np.append(chi_list,new_chi_squared)\n",
    "\n",
    "\n",
    "\n",
    "        iteration += 1\n",
    "\n",
    "        if iteration > max_iterations:\n",
    "            print(\"Max iterations reached\")\n",
    "            break\n",
    "\n",
    "    print(\"Final Chi-Squared:\", prev_chi_squared)\n",
    "    print(\"Final Value of Parameter\", param, \":\", new_param_value)\n",
    "    print(param_list)\n",
    "    print(chi_list)\n",
    "\n",
    "    last_param_values=param_list[-3:]\n",
    "    last_chi_values=chi_list[-3:]\n",
    "\n",
    "    p=np.polyfit(last_param_values, last_chi_values, 2)\n",
    "\n",
    "    min_param_value= -p[1]/(2*p[0])\n",
    "\n",
    "    print(\"Minimum\", param, \"value:\", min_param_value)"
   ]
  },
  {
   "cell_type": "code",
   "execution_count": 109,
   "id": "11657496",
   "metadata": {},
   "outputs": [
    {
     "name": "stdout",
     "output_type": "stream",
     "text": [
      "Final Chi-Squared: 1590.9733856202638\n",
      "Final Value of Parameter λ : 0.1230000000000001\n",
      "[0.    0.001 0.002 0.003 0.004 0.005 0.006 0.007 0.008 0.009 0.01  0.011\n",
      " 0.012 0.013 0.014 0.015 0.016 0.017 0.018 0.019 0.02  0.021 0.022 0.023\n",
      " 0.024 0.025 0.026 0.027 0.028 0.029 0.03  0.031 0.032 0.033 0.034 0.035\n",
      " 0.036 0.037 0.038 0.039 0.04  0.041 0.042 0.043 0.044 0.045 0.046 0.047\n",
      " 0.048 0.049 0.05  0.051 0.052 0.053 0.054 0.055 0.056 0.057 0.058 0.059\n",
      " 0.06  0.061 0.062 0.063 0.064 0.065 0.066 0.067 0.068 0.069 0.07  0.071\n",
      " 0.072 0.073 0.074 0.075 0.076 0.077 0.078 0.079 0.08  0.081 0.082 0.083\n",
      " 0.084 0.085 0.086 0.087 0.088 0.089 0.09  0.091 0.092 0.093 0.094 0.095\n",
      " 0.096 0.097 0.098 0.099 0.1   0.101 0.102 0.103 0.104 0.105 0.106 0.107\n",
      " 0.108 0.109 0.11  0.111 0.112 0.113 0.114 0.115 0.116 0.117 0.118 0.119\n",
      " 0.12  0.121 0.122]\n",
      "[225254.42089291 214114.08996434 203549.0378536  193528.13782359\n",
      " 184022.01721456 175002.95547722 166444.78827526 158322.81728959\n",
      " 150613.72537867 143295.49677105 136347.34198579 129749.62719514\n",
      " 123483.80776162 117532.36569778 111878.75081238 106507.32532144\n",
      " 101403.31171568  96552.74368911  91942.41994504  87559.86070725\n",
      "  83393.26677441  79431.48096569  75663.95181488  72080.69937886\n",
      "  68672.28303446  65429.7711454   62344.71248821  59409.10933256\n",
      "  56615.39207809  53956.39535538  51425.33550455  49015.78935004\n",
      "  46721.67419515  44537.22896428  42456.9964256   40475.80643026\n",
      "  38588.76010884  36791.21496857  35078.77083879  33447.25661494\n",
      "  31892.71775448  30411.40448086  28999.76065431  27654.41327061\n",
      "  26372.16255148  25149.97259213  23984.96253382  22874.39823097\n",
      "  21815.68438432  20806.35711323  19844.07694181  18926.6221752\n",
      "  18051.88264343  17217.85379188  16422.63109858  15664.40479948\n",
      "  14941.45490429  14252.14648629  13594.92523045  12968.31322529\n",
      "  12370.90498467  11801.36368637  11258.41761537  10740.85680018\n",
      "  10247.5298314    9777.34085219   9329.24671118   8902.25426847\n",
      "   8495.41784641   8107.83681687   7738.65331756   7387.0500901\n",
      "   7052.24843319   6733.50626438   6430.11628459   6141.40423951\n",
      "   5866.72727277   5605.47236563   5357.05485858   5120.91705031\n",
      "   4896.52686979   4683.37661754   4480.98177231   4288.87985954\n",
      "   4106.62937836   3933.80878388   3770.01552186   3614.86511281\n",
      "   3467.99028306   3329.04014003   3197.67938963   3073.58759325\n",
      "   2956.45846242   2845.99918906   2741.92980947   2643.98260024\n",
      "   2551.90150439   2465.44158621   2384.36851318   2308.45806369\n",
      "   2237.49565909   2171.27591884   2109.60223759   2052.28638299\n",
      "   1999.14811323   1950.01481321   1904.72114843   1863.1087357\n",
      "   1825.02582973   1790.32702488   1758.87297124   1730.53010435\n",
      "   1705.1703878    1682.67106811   1662.91444132   1645.78763053\n",
      "   1631.18237402   1618.99482339   1609.12535102   1601.47836672\n",
      "   1595.96214284   1592.48864751   1590.97338562]\n",
      "Minimum λ value: 0.1222737902175941\n"
     ]
    }
   ],
   "source": [
    "prev_chi_squared=initial_chi_squared\n",
    "#Create a copy of the start values dictionary to update with the new parameter value\n",
    "param_values=start_values.copy()\n",
    "param='λ'\n",
    "max_iterations=10000000\n",
    "delta=.001\n",
    "#Create a list of parameter values\n",
    "param_list=np.array(start_values[param])\n",
    "chi_list=np.array(initial_chi_squared)\n",
    "iteration=0\n",
    "#Repeat step 2 until Chi-Squared is no longer increasing\n",
    "while True:\n",
    "    #Increment the parameter chosen\n",
    "    new_chi_squared, new_param_value = step_parameter(y,t,**param_values, param=param, delta_values=delta)\n",
    "    #Check whether Chi-Squared has increased due to parameter change\n",
    "    if new_chi_squared > prev_chi_squared:\n",
    "        #param_list=np.append(param_list, param_values[param])\n",
    "        break\n",
    "    else:\n",
    "        prev_chi_squared=new_chi_squared\n",
    "        param_values[param]=new_param_value\n",
    "        param_list=np.append(param_list, new_param_value)\n",
    "        chi_list=np.append(chi_list,new_chi_squared)\n",
    "    iteration += 1\n",
    "    if iteration > max_iterations:\n",
    "        print(\"Max iterations reached\")\n",
    "        break\n",
    "print(\"Final Chi-Squared:\", prev_chi_squared)\n",
    "print(\"Final Value of Parameter\", param, \":\", new_param_value)\n",
    "print(param_list)\n",
    "print(chi_list)\n",
    "last_param_values=param_list[-3:]\n",
    "last_chi_values=chi_list[-3:]\n",
    "p=np.polyfit(last_param_values, last_chi_values, 2)\n",
    "min_param_value= -p[1]/(2*p[0])\n",
    "print(\"Minimum\", param, \"value:\", min_param_value)"
   ]
  },
  {
   "cell_type": "code",
   "execution_count": null,
   "id": "a056f4f4",
   "metadata": {},
   "outputs": [],
   "source": []
  }
 ],
 "metadata": {
  "kernelspec": {
   "display_name": "Python 3 (ipykernel)",
   "language": "python",
   "name": "python3"
  },
  "language_info": {
   "codemirror_mode": {
    "name": "ipython",
    "version": 3
   },
   "file_extension": ".py",
   "mimetype": "text/x-python",
   "name": "python",
   "nbconvert_exporter": "python",
   "pygments_lexer": "ipython3",
   "version": "3.12.1"
  }
 },
 "nbformat": 4,
 "nbformat_minor": 5
}
