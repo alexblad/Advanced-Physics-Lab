{
 "cells": [
  {
   "cell_type": "code",
   "execution_count": null,
   "id": "3457d7c6",
   "metadata": {},
   "outputs": [],
   "source": []
  },
  {
   "cell_type": "code",
   "execution_count": 47,
   "id": "116c910c",
   "metadata": {},
   "outputs": [],
   "source": [
    "from pandas import read_pickle\n",
    "import numpy as np\n",
    "from numpy.linalg import det\n",
    "import matplotlib.pyplot as plt\n",
    "from math import pi, log, e\n",
    "\n",
    "# Importing data\n",
    "radiation = read_pickle('Radiation.pkl')\n",
    "\n",
    "# Setting up arrays for time, radiation, and background radiation and error for each\n",
    "t = arange(0,35.8167,1.35)\n",
    "y = radiation['Count rate'].values*60\n",
    "yerr = sqrt(y)\n",
    "\n",
    "# Creating a fit line with the parameters\n",
    "def fit_line(t,A1,A2,λ1,λ2,B):\n",
    "    fit = A1*(e**(-λ1*t))+ A2*(e**(-λ2*t)) + B\n",
    "    return fit\n",
    "\n",
    "a1 = 3000\n",
    "a2 = -2000\n",
    "λ1 = 0.1\n",
    "λ2 = 0.1\n",
    "B = 100\n",
    "\n"
   ]
  },
  {
   "cell_type": "code",
   "execution_count": 135,
   "id": "b737b13b",
   "metadata": {},
   "outputs": [
    {
     "data": {
      "text/plain": [
       "[<matplotlib.lines.Line2D at 0x7fc441338640>]"
      ]
     },
     "execution_count": 135,
     "metadata": {},
     "output_type": "execute_result"
    },
    {
     "data": {
      "image/png": "[encoded data removed]",
      "text/plain": [
       "<Figure size 432x288 with 1 Axes>"
      ]
     },
     "metadata": {
      "needs_background": "light"
     },
     "output_type": "display_data"
    }
   ],
   "source": [
    "# This block of code was to help me make sure that my grid search program wasn't \n",
    "# finding a local minimum\n",
    "\n",
    "a1 = linspace(4690,5000,20000)\n",
    "a2 = linspace(4670,8000,20000)\n",
    "λ1 = linspace(0,2,2000)\n",
    "λ2 = linspace(0.1,0.2,2000)\n",
    "B = linspace(600,800,2000)\n",
    "\n",
    "chisq = array([])\n",
    "for i in λ1:\n",
    "    fit = fit_line(t,a1[0],a2[0],i,λ2[0],B[0])\n",
    "    chi2 = sum(((y - fit)**2)/((yerr)**2))\n",
    "    chisq = append(chisq, chi2)\n",
    "\n",
    "plt.title('X2 vs Variable') # In this case its Gamma2\n",
    "plt.plot(λ1,chisq)"
   ]
  },
  {
   "cell_type": "code",
   "execution_count": 164,
   "id": "925f9b69",
   "metadata": {},
   "outputs": [
    {
     "name": "stdout",
     "output_type": "stream",
     "text": [
      "3.465735902799726\n"
     ]
    }
   ],
   "source": [
    "Thalf = log(2)/λ1\n",
    "print(Thalf)"
   ]
  },
  {
   "cell_type": "code",
   "execution_count": 49,
   "id": "bc1c6535",
   "metadata": {},
   "outputs": [
    {
     "name": "stdout",
     "output_type": "stream",
     "text": [
      "Best Parameters (A, B, λ) and Chi_Squared ((3999, 670, 0.15), 819.3841176847774)\n"
     ]
    }
   ],
   "source": [
    "# Importing data\n",
    "radiation = read_pickle('Radiation.pkl')\n",
    "\n",
    "# Setting up arrays for time, radiation, and background radiation and error for each\n",
    "t = arange(0,35.8167,1.35)\n",
    "y = radiation['Count rate'].values*60\n",
    "yerr = sqrt(y)\n",
    "\n",
    "\n",
    "# Creating a fit line with the parameters\n",
    "def fit_line(t,A,λ,B):\n",
    "    fit = A*(np.exp(-λ*t)) + B\n",
    "    return fit\n",
    "\n",
    "\n",
    "#a1  = 3000\n",
    "#λ = 0.12\n",
    "#B = 600\n",
    "\n",
    "\n",
    "def chi_squared(y, t, A, B, λ):\n",
    "    y_values=fit_line(t, A, λ, B)\n",
    "    return np.sum((y-y_values)**2 / yerr**2)\n",
    "\n",
    "def grid_search(y, t, A_range, B_range, λ_range, step_size, step_size2):\n",
    "    best_params= None\n",
    "    best_chi_squared = float('inf')\n",
    "    \n",
    "    for A in np.arange(A_range[0], A_range[1], step_size):\n",
    "        for B in np.arange(B_range[0], B_range[1], step_size):\n",
    "            for λ in np.arange(λ_range[0], λ_range[1], step_size2):\n",
    "                \n",
    "                current_chi_squared = chi_squared(y, t, A, B, λ)\n",
    "                \n",
    "                if current_chi_squared < best_chi_squared:\n",
    "                    best_chi_squared = current_chi_squared\n",
    "                    best_params = (A, B, λ)\n",
    "                    \n",
    "        \n",
    "    return best_params, best_chi_squared\n",
    "\n",
    "A_range=(2000, 4000)\n",
    "B_range=(100,700)\n",
    "λ_range=(0, 1)\n",
    "step_size= 1\n",
    "step_size2= .01\n",
    "\n",
    "\n",
    "\n",
    "best_params = grid_search(y, t, A_range, B_range, λ_range, step_size, step_size2)\n",
    "print(\"Best Parameters (A, B, λ) and Chi_Squared\", best_params)"
   ]
  },
  {
   "cell_type": "code",
   "execution_count": 44,
   "id": "e656fae4",
   "metadata": {},
   "outputs": [
    {
     "name": "stdout",
     "output_type": "stream",
     "text": [
      "4.620981203732969\n"
     ]
    }
   ],
   "source": [
    "Thalf = log(2)/.15\n",
    "print(Thalf)"
   ]
  },
  {
   "cell_type": "code",
   "execution_count": null,
   "id": "6fdd093a",
   "metadata": {},
   "outputs": [],
   "source": []
  }
 ],
 "metadata": {
  "kernelspec": {
   "display_name": "Python 3 (ipykernel)",
   "language": "python",
   "name": "python3"
  },
  "language_info": {
   "codemirror_mode": {
    "name": "ipython",
    "version": 3
   },
   "file_extension": ".py",
   "mimetype": "text/x-python",
   "name": "python",
   "nbconvert_exporter": "python",
   "pygments_lexer": "ipython3",
   "version": "3.10.9"
  }
 },
 "nbformat": 4,
 "nbformat_minor": 5
}
