{
 "cells": [
  {
   "cell_type": "code",
   "execution_count": 67,
   "id": "67d791fb",
   "metadata": {},
   "outputs": [
    {
     "name": "stdout",
     "output_type": "stream",
     "text": [
      "[ 50.  60.  70.  80.  90. 100. 110. 120. 130. 140. 150. 160. 170. 180.\n",
      " 190. 200. 210. 220. 230. 240.] [ 5.  7. 11. 13. 21. 43. 30. 16. 15. 10. 13. 42. 90. 75. 29. 13.  8.  4.\n",
      "  6.  3.]\n"
     ]
    }
   ],
   "source": [
    "import numpy as np\n",
    "from numpy.linalg import inv\n",
    "import matplotlib.pyplot as plt\n",
    "from sympy import pprint\n",
    "\n",
    "#Create array of xdata\n",
    "xdata=np.linspace(50, 240, 20)\n",
    "\n",
    "#Create array of ydata\n",
    "ydata=np.array([5.0,7.0,11.0,13.0,21.0,43.0,30.0,16.0,15.0,10.0,13.0,42.0,90.0,75.0,29.0,13.0,8.0,4.0,6.0,3.0])\n",
    "\n",
    "print(xdata, ydata)\n"
   ]
  },
  {
   "cell_type": "code",
   "execution_count": 68,
   "id": "6c7a786e",
   "metadata": {},
   "outputs": [],
   "source": [
    "#Define Lorentzian function\n",
    "def Lorentz(x, μ, Γ):\n",
    "    return (1/np.pi)*((Γ/2)/((x-μ)**2+(Γ/2)**2))"
   ]
  },
  {
   "cell_type": "code",
   "execution_count": 76,
   "id": "9004da97",
   "metadata": {},
   "outputs": [],
   "source": [
    "#Define given constants and create step\n",
    "a1=1800\n",
    "a2=2500\n",
    "μ1=102.1\n",
    "Γ1=30.0\n",
    "μ2=160\n",
    "Γ2=10\n",
    "σ=np.sqrt(ydata)\n",
    "da1=1\n",
    "\n"
   ]
  },
  {
   "cell_type": "code",
   "execution_count": 70,
   "id": "b3e1b602",
   "metadata": {},
   "outputs": [],
   "source": [
    "#Create fit line\n",
    "def fit_line(xdata, ydata, μ1, μ2, Γ1, Γ2, a1, a2):\n",
    "    fit = a1*Lorentz(xdata, μ1, Γ1)+ a2*Lorentz(xdata, μ2, Γ2)\n",
    "    return fit\n",
    "\n",
    "\n",
    "\n",
    "#Calculate chi-squared of the fit\n",
    "#Χ2=sum((ydata-fit)**2/σ)\n",
    "\n",
    "\n",
    "#Create Scatterplot and fit Line\n",
    "\n",
    "#plt.plot(xdata, ydata, 'bo')\n",
    "#plt.plot(xdata, fit, '-', color='#ff7f50')\n",
    "#plt.show()\n"
   ]
  },
  {
   "cell_type": "code",
   "execution_count": 77,
   "id": "b66f3606",
   "metadata": {},
   "outputs": [
    {
     "name": "stdout",
     "output_type": "stream",
     "text": [
      "2501\n",
      "511.7053967240769\n",
      "-999488.294603276\n",
      "2502\n",
      "512.0855604011315\n",
      "0.38016367705461107\n",
      "512.0855604011315\n",
      "[2500 2501 2502]\n"
     ]
    }
   ],
   "source": [
    "Xold=1000000\n",
    "diff=-1\n",
    "A2=np.array(a2)\n",
    "while diff < 0: \n",
    "    fit=fit_line(xdata, ydata, μ1, μ2, Γ1, Γ2, a1, a2)\n",
    "    Xnew=sum(((ydata-fit)**2)/(σ**2))\n",
    "    a2 += da1\n",
    "    A2=np.append(A2, a2)\n",
    "    diff=Xnew-Xold\n",
    "    Xold=Xnew\n",
    "    print(a2)\n",
    "    print(Xnew)\n",
    "    print(diff)\n",
    "    \n",
    "print(Xnew)\n",
    "print(A2)\n",
    "    "
   ]
  },
  {
   "cell_type": "code",
   "execution_count": null,
   "id": "d91093f3",
   "metadata": {},
   "outputs": [],
   "source": []
  },
  {
   "cell_type": "code",
   "execution_count": null,
   "id": "db352e06",
   "metadata": {},
   "outputs": [],
   "source": []
  }
 ],
 "metadata": {
  "kernelspec": {
   "display_name": "Python 3 (ipykernel)",
   "language": "python",
   "name": "python3"
  },
  "language_info": {
   "codemirror_mode": {
    "name": "ipython",
    "version": 3
   },
   "file_extension": ".py",
   "mimetype": "text/x-python",
   "name": "python",
   "nbconvert_exporter": "python",
   "pygments_lexer": "ipython3",
   "version": "3.10.9"
  }
 },
 "nbformat": 4,
 "nbformat_minor": 5
}
