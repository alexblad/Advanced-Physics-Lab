{
 "cells": [
  {
   "cell_type": "code",
   "execution_count": 23,
   "id": "b478ef84-09f1-4db2-b780-b58c87724a85",
   "metadata": {},
   "outputs": [
    {
     "name": "stdout",
     "output_type": "stream",
     "text": [
      "[[0 1 2 3 4 5 6]\n",
      " [1 2 2 5 6 3 1]]\n",
      "[[0 1 5 5 6 3 0]\n",
      " [1 2 2 5 6 3 1]]\n",
      "Chi2ContingencyResult(statistic=6.284109977324263, pvalue=0.39212799969551393, dof=6, expected_freq=array([[0.51219512, 1.53658537, 2.04878049, 4.09756098, 5.12195122,\n",
      "        4.09756098, 3.58536585],\n",
      "       [0.48780488, 1.46341463, 1.95121951, 3.90243902, 4.87804878,\n",
      "        3.90243902, 3.41463415]]))\n",
      "Chi2ContingencyResult(statistic=3.6190476190476186, pvalue=0.7280694341350952, dof=6, expected_freq=array([[0.5, 1.5, 3.5, 5. , 6. , 3. , 0.5],\n",
      "       [0.5, 1.5, 3.5, 5. , 6. , 3. , 0.5]]))\n"
     ]
    }
   ],
   "source": [
    "from scipy.stats import chi2_contingency\n",
    "import numpy as np\n",
    "import scipy\n",
    "\n",
    "\n",
    "coins = np.array([[0,1,2,3,4,5,6],[1,2,2,5,6,3,1]])\n",
    "\n",
    "coins2 = np.array([[0,1,5,5,6,3,0],[1,2,2,5,6,3,1]])\n",
    "print(coins)\n",
    "print(coins2)\n",
    "\n",
    "stats= chi2_contingency(coins)\n",
    "stats2= chi2_contingency(coins2)\n",
    "print(stats)\n",
    "print(stats2)"
   ]
  },
  {
   "cell_type": "code",
   "execution_count": 5,
   "id": "28f2d63b-b1a6-4993-9017-d7f7043fd0dd",
   "metadata": {},
   "outputs": [
    {
     "data": {
      "text/plain": [
       "2.467333333333334"
      ]
     },
     "execution_count": 5,
     "metadata": {},
     "output_type": "execute_result"
    }
   ],
   "source": [
    "data=[ 2.4, 2.45, 2.47, 3.13, 2.92, 2.85, 2.05, 2.52, 2.94, 1.89, 1.94, 1.55, 2.12, 2.17, 3.06, 1.97, 2.23, 3.20, 2.24, 2.60]\n",
    "data2=[ 2.59, 2.65, 2.55, 2.07, 2.61, 2.61, 2.54, 2.76, 2.37, 2.57]\n",
    "\n",
    "(sum(data) + sum(data2))/30"
   ]
  },
  {
   "cell_type": "code",
   "execution_count": 6,
   "id": "a767efc2-3ede-4088-b2df-c3f2f5a8c68d",
   "metadata": {},
   "outputs": [
    {
     "ename": "TypeError",
     "evalue": "unsupported operand type(s) for -: 'list' and 'float'",
     "output_type": "error",
     "traceback": [
      "\u001b[1;31m---------------------------------------------------------------------------\u001b[0m",
      "\u001b[1;31mTypeError\u001b[0m                                 Traceback (most recent call last)",
      "Cell \u001b[1;32mIn[6], line 1\u001b[0m\n\u001b[1;32m----> 1\u001b[0m \u001b[38;5;28msum\u001b[39m(\u001b[43mdata\u001b[49m\u001b[38;5;241;43m-\u001b[39;49m\u001b[38;5;241;43m2.467\u001b[39;49m)\u001b[38;5;241m+\u001b[39m\u001b[38;5;28msum\u001b[39m(data2\u001b[38;5;241m-\u001b[39m\u001b[38;5;241m2.467\u001b[39m)\n",
      "\u001b[1;31mTypeError\u001b[0m: unsupported operand type(s) for -: 'list' and 'float'"
     ]
    }
   ],
   "source": []
  },
  {
   "cell_type": "code",
   "execution_count": 23,
   "id": "43460364-3488-412c-bd31-99bdf5de868a",
   "metadata": {},
   "outputs": [
    {
     "name": "stdout",
     "output_type": "stream",
     "text": [
      "4.483390000000001\n",
      "0.3931916265288642\n"
     ]
    }
   ],
   "source": [
    "data3=[ 2.4, 2.45, 2.47, 3.13, 2.92, 2.85, 2.05, 2.52, 2.94, 1.89, 1.94, 1.55, 2.12, 2.17, 3.06, 1.97, 2.23, 3.20, 2.24, 2.60, 2.59, 2.65, 2.55, 2.07, 2.61, 2.61, 2.54, 2.76, 2.37, 2.57]\n",
    "\n",
    "s=0\n",
    "for i in data3:\n",
    "    s+=(i-2.467)**2\n",
    "print(s)\n",
    "s=math.sqrt(s/29)\n",
    "    \n",
    "print(s)"
   ]
  },
  {
   "cell_type": "code",
   "execution_count": 10,
   "id": "0d3bcd24-9de2-4697-a851-23f76619b9a7",
   "metadata": {},
   "outputs": [
    {
     "data": {
      "text/plain": [
       "0.050348783500696416"
      ]
     },
     "execution_count": 10,
     "metadata": {},
     "output_type": "execute_result"
    }
   ],
   "source": [
    "import math\n",
    "\n",
    ".39/math.sqrt(60)"
   ]
  },
  {
   "cell_type": "code",
   "execution_count": null,
   "id": "2fc331d8-6268-487e-9f58-406ccd81d074",
   "metadata": {},
   "outputs": [],
   "source": []
  }
 ],
 "metadata": {
  "kernelspec": {
   "display_name": "Python 3 (ipykernel)",
   "language": "python",
   "name": "python3"
  },
  "language_info": {
   "codemirror_mode": {
    "name": "ipython",
    "version": 3
   },
   "file_extension": ".py",
   "mimetype": "text/x-python",
   "name": "python",
   "nbconvert_exporter": "python",
   "pygments_lexer": "ipython3",
   "version": "3.10.9"
  }
 },
 "nbformat": 4,
 "nbformat_minor": 5
}
