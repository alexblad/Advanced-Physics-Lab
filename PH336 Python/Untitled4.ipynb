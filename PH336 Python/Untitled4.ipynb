{
 "cells": [
  {
   "cell_type": "markdown",
   "id": "4f660a60",
   "metadata": {},
   "source": [
    "b/c/d)\n",
    "# Z-Test of Two Means Independent Groups\n",
    "\n",
    "The FIFA Football (Soccer) World Cup is held every four years and is one of the biggest sporting events in the world. In 2006, Germany hosted the World Cup. A study was conducted by Dr. Wilbert-Lampen, et. al. to determine if the stress of viewing a soccer match would increase the risk of a heart attack or another cardiovascular event.\n",
    "We will use the data on cardiovascular problems during the World Cup to test the hypothesis that the mean number of cardiovascular events is greater during the World Cup than during the control period. (from https://byuistats.github.io/BYUI_M221_Book/Lesson13.html)\n",
    "\n"
   ]
  },
  {
   "cell_type": "code",
   "execution_count": 46,
   "id": "3d417c8e",
   "metadata": {},
   "outputs": [
    {
     "name": "stdout",
     "output_type": "stream",
     "text": [
      "                   Date1  HeartAttacks1 TimePeriod1        Date2  \\\n",
      "0    2003-05-01 00:00:00             12     Control  May 1, 2006   \n",
      "1            May 2, 2003             12     Control  May 2, 2006   \n",
      "2            May 3, 2003              6     Control  May 3, 2006   \n",
      "3            May 4, 2003             16     Control  May 4, 2006   \n",
      "4            May 5, 2003             13     Control  May 5, 2006   \n",
      "..                   ...            ...         ...          ...   \n",
      "177        July 26, 2005             15     Control          NaN   \n",
      "178        July 27, 2005             16     Control          NaN   \n",
      "179        July 28, 2005             22     Control          NaN   \n",
      "180        July 29, 2005              7     Control          NaN   \n",
      "181        July 30, 2005             12     Control          NaN   \n",
      "\n",
      "     HeartAttacks2 TimePeriod2  \n",
      "0             16.0   World Cup  \n",
      "1             19.0   World Cup  \n",
      "2             13.0   World Cup  \n",
      "3             20.0   World Cup  \n",
      "4             26.0   World Cup  \n",
      "..             ...         ...  \n",
      "177            NaN         NaN  \n",
      "178            NaN         NaN  \n",
      "179            NaN         NaN  \n",
      "180            NaN         NaN  \n",
      "181            NaN         NaN  \n",
      "\n",
      "[182 rows x 6 columns]\n",
      "14.043956043956044 19.0\n",
      "4.1529117467095 9.809292646374775\n",
      "182 91\n"
     ]
    }
   ],
   "source": [
    "import pandas as pd\n",
    "\n",
    "#Import data from Excel sheet\n",
    "df=pd.read_excel(r'C:\\DS350_W24\\DS350_WI24_Blad_Alex\\week_01\\WorldCupHeartAttacks.xlsx')\n",
    "\n",
    "print(df)\n",
    "\n",
    "#Get the Means\n",
    "x1=df['HeartAttacks1'].mean()\n",
    "x2=df['HeartAttacks2'].mean()\n",
    "\n",
    "print(x1,x2)\n",
    "\n",
    "#Std. Deviations\n",
    "s1=df['HeartAttacks1'].std()\n",
    "s2=df['HeartAttacks2'].std()\n",
    "\n",
    "print(s1,s2)\n",
    "\n",
    "#Sample Size\n",
    "n1=df['HeartAttacks1'].count()\n",
    "n2=df['HeartAttacks2'].count()\n",
    "\n",
    "print(n1, n2)\n",
    "\n",
    "dif=x1-x2"
   ]
  },
  {
   "cell_type": "markdown",
   "id": "461fe05f",
   "metadata": {},
   "source": [
    "Now we can calculate the z-score by hand.\n"
   ]
  },
  {
   "cell_type": "code",
   "execution_count": 43,
   "id": "0b464aa7",
   "metadata": {},
   "outputs": [
    {
     "name": "stdout",
     "output_type": "stream",
     "text": [
      "-4.617222713734024\n"
     ]
    }
   ],
   "source": [
    "import numpy as np\n",
    "\n",
    "z= (x1-x2)/np.sqrt((s1**2/n1)+(s2**2/n2))\n",
    "print(z)"
   ]
  },
  {
   "cell_type": "markdown",
   "id": "c3a37f18",
   "metadata": {},
   "source": [
    "The test statistic found by hand we can approximate to be -4.617, now we'll try to get the same statistic using the scipy."
   ]
  },
  {
   "cell_type": "code",
   "execution_count": 68,
   "id": "3e4229d5",
   "metadata": {},
   "outputs": [
    {
     "name": "stdout",
     "output_type": "stream",
     "text": [
      "[12 12  6 16 13 17 14 16 12 12 16 13 13 14 18 11 11 14  6 13 23 15 17 17\n",
      " 18 13 20 10  8 21 10  6 11  8 12 11 18 15 17 17 10 16 13 17 11  5 18 15\n",
      " 23 16  9 13 18 12 16 10 11 15  8 21 10 13 18  9 17 10 17 11 16  9 16 23\n",
      " 13 13  9 10  6 14 19 13 16 18 17 18 16 14 17 19 27 11 18 23 12 19 11 11\n",
      " 15 10 19 17 16 15 10  9  7 12 12 20 16 20  9  8 22 14 17 19 15 10 14 17\n",
      " 20 14 14 15 11  8 13 13 27 17 15 10 14 14 10 14  9 17  9  8 15 11 21 14\n",
      " 14 13  4 10 15 22 12 17 15 16 12 11 17 15 13 14 14 10 15 18 13 16 16  9\n",
      " 19 12 11 15 16 11 13 15  9 15 16 22  7 12]\n",
      "[16. 19. 13. 20. 26.  5. 23. 17. 11. 12. 25. 22. 19. 16. 13. 15. 16. 13.\n",
      " 16. 14. 15. 23. 16. 17. 15. 10. 13. 11. 19. 17. 10. 14. 12. 10. 10. 22.\n",
      " 33. 26. 20. 43. 13. 21. 22. 20. 49. 11. 26. 18. 15. 23. 31. 21. 11. 15.\n",
      " 39. 18. 18. 15. 19. 15. 63. 23. 19. 15. 62. 22. 14. 12. 15. 32.  9. 23.\n",
      " 11. 13. 21. 15. 20. 20. 26. 14. 21. 28. 13. 12. 12. 18. 19. 20.  8.  7.\n",
      " 15. nan nan nan nan nan nan nan nan nan nan nan nan nan nan nan nan nan\n",
      " nan nan nan nan nan nan nan nan nan nan nan nan nan nan nan nan nan nan\n",
      " nan nan nan nan nan nan nan nan nan nan nan nan nan nan nan nan nan nan\n",
      " nan nan nan nan nan nan nan nan nan nan nan nan nan nan nan nan nan nan\n",
      " nan nan nan nan nan nan nan nan nan nan nan nan nan nan nan nan nan nan\n",
      " nan nan]\n"
     ]
    },
    {
     "data": {
      "text/plain": [
       "Ttest_indResult(statistic=-4.617222713734024, pvalue=1.0927209957246354e-05)"
      ]
     },
     "execution_count": 68,
     "metadata": {},
     "output_type": "execute_result"
    }
   ],
   "source": [
    "from scipy import stats\n",
    "\n",
    "d1=df['HeartAttacks1'].to_numpy()\n",
    "\n",
    "d2=df['HeartAttacks2'].to_numpy()\n",
    "\n",
    "\n",
    "print(d1)\n",
    "print(d2)\n",
    "\n",
    "stats.ttest_ind(d1,d2, 0 ,False, 'omit')\n"
   ]
  },
  {
   "cell_type": "markdown",
   "id": "22c47441",
   "metadata": {},
   "source": [
    "This gives us the same value for the test statistic calculated by hand earlier!"
   ]
  },
  {
   "cell_type": "markdown",
   "id": "3f9e39f3",
   "metadata": {},
   "source": [
    "# Z-Test of Single Proportion \n",
    "\n",
    "Suppose we are interested in estimating the proportion of individuals in a population who have a certain trait. For instance, we might be interested in studying the proportion of children living near a lead smelter who have colic. The prevalence of colic in the general public is estimated to be as low as 7%.\n",
    "\n",
    "\n",
    "From https://sphweb.bumc.bu.edu/otlt/mph-modules/bs/sas/sas6-categoricaldata/SAS6-CategoricalData2.html#headingtaglink_3 \n",
    "a sample was take with n=124 and the number of kids with colic x=23. With this information we see that \n",
    "\n",
    "n=124\n",
    "x=23 \n",
    "p0=.07 \n",
    "\n",
    "and the point estimate p, give by p=x/n is\n",
    "p=.19\n",
    "\n",
    "Doing the Z-test of a single proportion \"by hand we see\""
   ]
  },
  {
   "cell_type": "code",
   "execution_count": 26,
   "id": "d314c476",
   "metadata": {},
   "outputs": [
    {
     "name": "stdout",
     "output_type": "stream",
     "text": [
      "5.237229365663816\n"
     ]
    }
   ],
   "source": [
    "import numpy as np \n",
    "\n",
    "n=124\n",
    "x=23\n",
    "p0=.07\n",
    "p=.19\n",
    "q0=.93\n",
    "\n",
    "z_score= (p-p0)/np.sqrt((p0*q0)/n)\n",
    "print(z_score)\n"
   ]
  },
  {
   "cell_type": "markdown",
   "id": "b0b1dbc0",
   "metadata": {},
   "source": [
    "We can also use the proportions_ztest() function from the statsmodels library \n",
    "and it gives us the following. "
   ]
  },
  {
   "cell_type": "code",
   "execution_count": 25,
   "id": "f8d5b8cc",
   "metadata": {},
   "outputs": [
    {
     "data": {
      "text/plain": [
       "(3.3084856526541473, 0.00046900995453509457)"
      ]
     },
     "execution_count": 25,
     "metadata": {},
     "output_type": "execute_result"
    }
   ],
   "source": [
    "from statsmodels.stats.proportion import proportions_ztest\n",
    "\n",
    "proportions_ztest(count=23, nobs=124, value=.07, alternative='larger')"
   ]
  },
  {
   "cell_type": "markdown",
   "id": "af2a7f8b",
   "metadata": {},
   "source": [
    "Although the z-value is differnt, it still leads us to reject the null-hypothesis. I assume that the function may calculate the z-statistic differently than the give formula that we have. "
   ]
  },
  {
   "cell_type": "markdown",
   "id": "6a75476c",
   "metadata": {},
   "source": [
    "e) I have found this data set about a sample of apples. It could be used to Test the catagorical frequency of the quality of the apple, or to do a z-test of the mean of the weight of an apple within the sample population. \n",
    "\n",
    "https://www.kaggle.com/datasets/nelgiriyewithana/apple-quality"
   ]
  },
  {
   "cell_type": "code",
   "execution_count": null,
   "id": "91a2cd7c",
   "metadata": {},
   "outputs": [],
   "source": []
  }
 ],
 "metadata": {
  "kernelspec": {
   "display_name": "Python 3 (ipykernel)",
   "language": "python",
   "name": "python3"
  },
  "language_info": {
   "codemirror_mode": {
    "name": "ipython",
    "version": 3
   },
   "file_extension": ".py",
   "mimetype": "text/x-python",
   "name": "python",
   "nbconvert_exporter": "python",
   "pygments_lexer": "ipython3",
   "version": "3.10.9"
  }
 },
 "nbformat": 4,
 "nbformat_minor": 5
}
